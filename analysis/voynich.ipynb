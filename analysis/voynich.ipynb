{
 "cells": [
  {
   "cell_type": "markdown",
   "id": "1e87e2c5",
   "metadata": {},
   "source": [
    "# Glyph Frequencies"
   ]
  },
  {
   "cell_type": "code",
   "execution_count": 1,
   "id": "003c9bb9",
   "metadata": {
    "scrolled": true
   },
   "outputs": [
    {
     "name": "stdout",
     "output_type": "stream",
     "text": [
      "234956\n",
      "      37919\n",
      "o     25468\n",
      "e     20070\n",
      "h     17856\n",
      "y     17655\n",
      "a     14281\n",
      "c     13314\n",
      "d     12973\n",
      "i     11660\n",
      "l     10518\n",
      "k      9996\n",
      "r      7456\n",
      "n      6141\n",
      "t      5968\n",
      "q      5423\n",
      "\\n     5212\n",
      "S      4501\n",
      "s      2886\n",
      "p      1406\n",
      "m      1116\n",
      "T       976\n",
      "K       938\n",
      "f       425\n",
      "*       280\n",
      "P       224\n",
      "g        96\n",
      "F        80\n",
      "I        72\n",
      "x        35\n",
      "v         9\n",
      "z         2\n",
      "dtype: int64\n"
     ]
    }
   ],
   "source": [
    "import pandas as pd\n",
    "\n",
    "with open('takahashi_clean.txt') as voy:\n",
    "    data = voy.read()\n",
    "\n",
    "print(len(data))\n",
    "print(pd.Series(list(data)).value_counts())"
   ]
  },
  {
   "cell_type": "code",
   "execution_count": 9,
   "id": "8180bb29",
   "metadata": {},
   "outputs": [
    {
     "name": "stdout",
     "output_type": "stream",
     "text": [
      "ch 11008\n",
      "sh 4501\n",
      "cth 950\n",
      "ckh 906\n",
      "cph 216\n",
      "cfh 74\n",
      "co 9\n",
      "cy 7\n"
     ]
    }
   ],
   "source": [
    "import re\n",
    "\n",
    "pattern_ch  = '(ch)'\n",
    "pattern_sh  = '(Sh)'\n",
    "pattern_cth = '(c)+(T)+(h)'\n",
    "pattern_ckh = '(c)+(K)+(h)'\n",
    "pattern_cph = '(c)+(P)+(h)'\n",
    "pattern_cfh = '(c)+(F)+(h)'\n",
    "pattern_co  = '(co)'\n",
    "pattern_cy  = '(cy)'\n",
    "\n",
    "matches_ch  = re.findall(pattern_ch, data)\n",
    "matches_sh  = re.findall(pattern_sh, data)\n",
    "matches_cth = re.findall(pattern_cth, data)\n",
    "matches_ckh = re.findall(pattern_ckh, data)\n",
    "matches_cph = re.findall(pattern_cph, data)\n",
    "matches_cfh = re.findall(pattern_cfh, data)\n",
    "matches_co  = re.findall(pattern_co, data)\n",
    "matches_cy  = re.findall(pattern_cy, data)\n",
    "\n",
    "print('ch '  +  str(len(matches_ch)))\n",
    "print('sh '  +  str(len(matches_sh)))\n",
    "print('cth ' +  str(len(matches_cth)))\n",
    "print('ckh ' +  str(len(matches_ckh)))\n",
    "print('cph ' +  str(len(matches_cph)))\n",
    "print('cfh ' +  str(len(matches_cfh)))\n",
    "print('co '  +  str(len(matches_co)))\n",
    "print('cy '  +  str(len(matches_cy)))"
   ]
  },
  {
   "cell_type": "code",
   "execution_count": null,
   "id": "f1744e11",
   "metadata": {},
   "outputs": [],
   "source": []
  },
  {
   "cell_type": "code",
   "execution_count": null,
   "id": "d4412100",
   "metadata": {},
   "outputs": [],
   "source": []
  }
 ],
 "metadata": {
  "kernelspec": {
   "display_name": "Python 3 (ipykernel)",
   "language": "python",
   "name": "python3"
  },
  "language_info": {
   "codemirror_mode": {
    "name": "ipython",
    "version": 3
   },
   "file_extension": ".py",
   "mimetype": "text/x-python",
   "name": "python",
   "nbconvert_exporter": "python",
   "pygments_lexer": "ipython3",
   "version": "3.9.12"
  }
 },
 "nbformat": 4,
 "nbformat_minor": 5
}
